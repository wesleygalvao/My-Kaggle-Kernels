{
 "cells": [
  {
   "cell_type": "markdown",
   "metadata": {},
   "source": [
    "Survivors Classification on Titanic using  R\n",
    "==="
   ]
  },
  {
   "cell_type": "markdown",
   "metadata": {},
   "source": [
    "Wesley Nogueira Galvão \n",
    "\n",
    "July, 2019"
   ]
  },
  {
   "cell_type": "markdown",
   "metadata": {
    "heading_collapsed": true
   },
   "source": [
    "# Introduction"
   ]
  },
  {
   "cell_type": "markdown",
   "metadata": {},
   "source": [
    "# Question definition"
   ]
  },
  {
   "cell_type": "markdown",
   "metadata": {},
   "source": [
    "# Data"
   ]
  },
  {
   "cell_type": "markdown",
   "metadata": {},
   "source": [
    "## Data Dictionary\n",
    "\n",
    "|Variable |Definition|Key|\n",
    "|:---- |----|----:|\n",
    "|survival  | Survival |0 = No, 1 = Yes|\n",
    "|pclass |Ticket class| 1 = 1st, 2 = 2nd, 3 = 3rd|\n",
    "|sex  |Sex| \t\n",
    "|Age  | Age in years| \t\n",
    "|sibsp| # of siblings / spouses aboard the Titanic |\n",
    "|parch |# of parents / children aboard the Titanic |\t\n",
    "|ticket| Ticket number| \t\n",
    "|fare \t|Passenger fare (British pound)| \t\n",
    "|cabin \t|Cabin number| \t\n",
    "|embarked |Port of Embarkation|C = Cherbourg, Q = Queenstown, S = Southampton|\n",
    "\n",
    "**Variables Notes**\n",
    "- pclass: A proxy for socio-economic status (SES)\n",
    "    - 1st = Upper\n",
    "    - 2nd = Middle\n",
    "    - 3rd = Lower\n",
    "- age: Age is fractional if less than 1. If the age is estimated, is it in the form of xx.5\n",
    "\n",
    "- sibsp: The dataset defines family relations in this way...\n",
    "    - Sibling = brother, sister, stepbrother, stepsister\n",
    "    - Spouse = husband, wife (mistresses and fiancés were ignored)\n",
    "\n",
    "- parch: The dataset defines family relations in this way...\n",
    "    - Parent = mother, father\n",
    "    - Child = daughter, son, stepdaughter, stepson\n",
    "    - Some children travelled only with a nanny, therefore parch=0 for them. "
   ]
  },
  {
   "cell_type": "markdown",
   "metadata": {},
   "source": [
    "# Strategy"
   ]
  },
  {
   "cell_type": "markdown",
   "metadata": {},
   "source": [
    "# Feature Engineering"
   ]
  },
  {
   "cell_type": "code",
   "execution_count": 2,
   "metadata": {},
   "outputs": [
    {
     "name": "stderr",
     "output_type": "stream",
     "text": [
      "\n",
      "Attaching package: ‘dplyr’\n",
      "\n",
      "The following objects are masked from ‘package:stats’:\n",
      "\n",
      "    filter, lag\n",
      "\n",
      "The following objects are masked from ‘package:base’:\n",
      "\n",
      "    intersect, setdiff, setequal, union\n",
      "\n",
      "\n",
      "Attaching package: ‘janitor’\n",
      "\n",
      "The following objects are masked from ‘package:stats’:\n",
      "\n",
      "    chisq.test, fisher.test\n",
      "\n",
      "\n",
      "Attaching package: ‘gridExtra’\n",
      "\n",
      "The following object is masked from ‘package:dplyr’:\n",
      "\n",
      "    combine\n",
      "\n",
      "Loading required package: magrittr\n",
      "\n",
      "Attaching package: ‘magrittr’\n",
      "\n",
      "The following object is masked from ‘package:tidyr’:\n",
      "\n",
      "    extract\n",
      "\n"
     ]
    }
   ],
   "source": [
    "library('ggplot2')   # visualization\n",
    "library('ggthemes')  # visualization\n",
    "library('scales')    # visualization\n",
    "library('dplyr')     # data manipulation\n",
    "library('csv')       # CVS manipulation\n",
    "library('tidyr')\n",
    "library('tibble')\n",
    "library('janitor')\n",
    "library('gridExtra')  # arrange plots\n",
    "library('ggpubr')\n"
   ]
  },
  {
   "cell_type": "code",
   "execution_count": 3,
   "metadata": {},
   "outputs": [],
   "source": [
    "#Reading the datasets\n",
    "train <- read.csv('train.csv', stringsAsFactors = F, header=T, na.strings=c(\"\"))\n",
    "test <- read.csv('test.csv', stringsAsFactors = F, header=T, na.strings=c(\"\"))\n",
    "#Bindind both parts to the same dataset\n",
    "titanic_data <- bind_rows(train, test) "
   ]
  },
  {
   "cell_type": "code",
   "execution_count": 4,
   "metadata": {},
   "outputs": [
    {
     "name": "stdout",
     "output_type": "stream",
     "text": [
      "Dataset dimension: 1309 rows and 12 columns"
     ]
    }
   ],
   "source": [
    "# dataset dimension\n",
    "cat(sprintf('Dataset dimension: %d rows and %d columns',dim(titanic_data)[1], dim(titanic_data)[2]))"
   ]
  },
  {
   "cell_type": "code",
   "execution_count": 5,
   "metadata": {},
   "outputs": [
    {
     "data": {
      "text/html": [
       "<table>\n",
       "<thead><tr><th scope=col>PassengerId</th><th scope=col>Survived</th><th scope=col>Pclass</th><th scope=col>Name</th><th scope=col>Sex</th><th scope=col>Age</th><th scope=col>SibSp</th><th scope=col>Parch</th><th scope=col>Ticket</th><th scope=col>Fare</th><th scope=col>Cabin</th><th scope=col>Embarked</th></tr></thead>\n",
       "<tbody>\n",
       "\t<tr><td>1                                                  </td><td>0                                                  </td><td>3                                                  </td><td>Braund, Mr. Owen Harris                            </td><td>male                                               </td><td>22                                                 </td><td>1                                                  </td><td>0                                                  </td><td>A/5 21171                                          </td><td> 7.2500                                            </td><td>NA                                                 </td><td>S                                                  </td></tr>\n",
       "\t<tr><td>2                                                  </td><td>1                                                  </td><td>1                                                  </td><td>Cumings, Mrs. John Bradley (Florence Briggs Thayer)</td><td>female                                             </td><td>38                                                 </td><td>1                                                  </td><td>0                                                  </td><td>PC 17599                                           </td><td>71.2833                                            </td><td>C85                                                </td><td>C                                                  </td></tr>\n",
       "\t<tr><td>3                                                  </td><td>1                                                  </td><td>3                                                  </td><td>Heikkinen, Miss. Laina                             </td><td>female                                             </td><td>26                                                 </td><td>0                                                  </td><td>0                                                  </td><td>STON/O2. 3101282                                   </td><td> 7.9250                                            </td><td>NA                                                 </td><td>S                                                  </td></tr>\n",
       "\t<tr><td>4                                                  </td><td>1                                                  </td><td>1                                                  </td><td>Futrelle, Mrs. Jacques Heath (Lily May Peel)       </td><td>female                                             </td><td>35                                                 </td><td>1                                                  </td><td>0                                                  </td><td>113803                                             </td><td>53.1000                                            </td><td>C123                                               </td><td>S                                                  </td></tr>\n",
       "\t<tr><td>5                                                  </td><td>0                                                  </td><td>3                                                  </td><td>Allen, Mr. William Henry                           </td><td>male                                               </td><td>35                                                 </td><td>0                                                  </td><td>0                                                  </td><td>373450                                             </td><td> 8.0500                                            </td><td>NA                                                 </td><td>S                                                  </td></tr>\n",
       "</tbody>\n",
       "</table>\n"
      ],
      "text/latex": [
       "\\begin{tabular}{r|llllllllllll}\n",
       " PassengerId & Survived & Pclass & Name & Sex & Age & SibSp & Parch & Ticket & Fare & Cabin & Embarked\\\\\n",
       "\\hline\n",
       "\t 1                                                   & 0                                                   & 3                                                   & Braund, Mr. Owen Harris                             & male                                                & 22                                                  & 1                                                   & 0                                                   & A/5 21171                                           &  7.2500                                             & NA                                                  & S                                                  \\\\\n",
       "\t 2                                                   & 1                                                   & 1                                                   & Cumings, Mrs. John Bradley (Florence Briggs Thayer) & female                                              & 38                                                  & 1                                                   & 0                                                   & PC 17599                                            & 71.2833                                             & C85                                                 & C                                                  \\\\\n",
       "\t 3                                                   & 1                                                   & 3                                                   & Heikkinen, Miss. Laina                              & female                                              & 26                                                  & 0                                                   & 0                                                   & STON/O2. 3101282                                    &  7.9250                                             & NA                                                  & S                                                  \\\\\n",
       "\t 4                                                   & 1                                                   & 1                                                   & Futrelle, Mrs. Jacques Heath (Lily May Peel)        & female                                              & 35                                                  & 1                                                   & 0                                                   & 113803                                              & 53.1000                                             & C123                                                & S                                                  \\\\\n",
       "\t 5                                                   & 0                                                   & 3                                                   & Allen, Mr. William Henry                            & male                                                & 35                                                  & 0                                                   & 0                                                   & 373450                                              &  8.0500                                             & NA                                                  & S                                                  \\\\\n",
       "\\end{tabular}\n"
      ],
      "text/markdown": [
       "\n",
       "PassengerId | Survived | Pclass | Name | Sex | Age | SibSp | Parch | Ticket | Fare | Cabin | Embarked | \n",
       "|---|---|---|---|---|\n",
       "| 1                                                   | 0                                                   | 3                                                   | Braund, Mr. Owen Harris                             | male                                                | 22                                                  | 1                                                   | 0                                                   | A/5 21171                                           |  7.2500                                             | NA                                                  | S                                                   | \n",
       "| 2                                                   | 1                                                   | 1                                                   | Cumings, Mrs. John Bradley (Florence Briggs Thayer) | female                                              | 38                                                  | 1                                                   | 0                                                   | PC 17599                                            | 71.2833                                             | C85                                                 | C                                                   | \n",
       "| 3                                                   | 1                                                   | 3                                                   | Heikkinen, Miss. Laina                              | female                                              | 26                                                  | 0                                                   | 0                                                   | STON/O2. 3101282                                    |  7.9250                                             | NA                                                  | S                                                   | \n",
       "| 4                                                   | 1                                                   | 1                                                   | Futrelle, Mrs. Jacques Heath (Lily May Peel)        | female                                              | 35                                                  | 1                                                   | 0                                                   | 113803                                              | 53.1000                                             | C123                                                | S                                                   | \n",
       "| 5                                                   | 0                                                   | 3                                                   | Allen, Mr. William Henry                            | male                                                | 35                                                  | 0                                                   | 0                                                   | 373450                                              |  8.0500                                             | NA                                                  | S                                                   | \n",
       "\n",
       "\n"
      ],
      "text/plain": [
       "  PassengerId Survived Pclass\n",
       "1 1           0        3     \n",
       "2 2           1        1     \n",
       "3 3           1        3     \n",
       "4 4           1        1     \n",
       "5 5           0        3     \n",
       "  Name                                                Sex    Age SibSp Parch\n",
       "1 Braund, Mr. Owen Harris                             male   22  1     0    \n",
       "2 Cumings, Mrs. John Bradley (Florence Briggs Thayer) female 38  1     0    \n",
       "3 Heikkinen, Miss. Laina                              female 26  0     0    \n",
       "4 Futrelle, Mrs. Jacques Heath (Lily May Peel)        female 35  1     0    \n",
       "5 Allen, Mr. William Henry                            male   35  0     0    \n",
       "  Ticket           Fare    Cabin Embarked\n",
       "1 A/5 21171         7.2500 NA    S       \n",
       "2 PC 17599         71.2833 C85   C       \n",
       "3 STON/O2. 3101282  7.9250 NA    S       \n",
       "4 113803           53.1000 C123  S       \n",
       "5 373450            8.0500 NA    S       "
      ]
     },
     "metadata": {},
     "output_type": "display_data"
    }
   ],
   "source": [
    "head(titanic_data, 5)"
   ]
  },
  {
   "cell_type": "markdown",
   "metadata": {},
   "source": [
    "## New features"
   ]
  },
  {
   "cell_type": "markdown",
   "metadata": {},
   "source": [
    "### Family size"
   ]
  },
  {
   "cell_type": "code",
   "execution_count": 6,
   "metadata": {},
   "outputs": [],
   "source": [
    "# FamilySize feature creation\n",
    "titanic_data$FamilySize <- titanic_data$SibSp + titanic_data$Parch + 1"
   ]
  },
  {
   "cell_type": "markdown",
   "metadata": {},
   "source": [
    "### Name Titles "
   ]
  },
  {
   "cell_type": "code",
   "execution_count": 7,
   "metadata": {},
   "outputs": [
    {
     "data": {
      "text/html": [
       "<table>\n",
       "<thead><tr><th scope=col>Title</th><th scope=col>n</th><th scope=col>percent</th></tr></thead>\n",
       "<tbody>\n",
       "\t<tr><td>Capt        </td><td>  1         </td><td>0.1%        </td></tr>\n",
       "\t<tr><td>Col         </td><td>  4         </td><td>0.3%        </td></tr>\n",
       "\t<tr><td>Don         </td><td>  1         </td><td>0.1%        </td></tr>\n",
       "\t<tr><td>Dona        </td><td>  1         </td><td>0.1%        </td></tr>\n",
       "\t<tr><td>Dr          </td><td>  8         </td><td>0.6%        </td></tr>\n",
       "\t<tr><td>Jonkheer    </td><td>  1         </td><td>0.1%        </td></tr>\n",
       "\t<tr><td>Lady        </td><td>  1         </td><td>0.1%        </td></tr>\n",
       "\t<tr><td>Major       </td><td>  2         </td><td>0.2%        </td></tr>\n",
       "\t<tr><td>Master      </td><td> 61         </td><td>4.7%        </td></tr>\n",
       "\t<tr><td>Miss        </td><td>260         </td><td>19.9%       </td></tr>\n",
       "\t<tr><td>Mlle        </td><td>  2         </td><td>0.2%        </td></tr>\n",
       "\t<tr><td>Mme         </td><td>  1         </td><td>0.1%        </td></tr>\n",
       "\t<tr><td>Mr          </td><td>757         </td><td>57.8%       </td></tr>\n",
       "\t<tr><td>Mrs         </td><td>197         </td><td>15.0%       </td></tr>\n",
       "\t<tr><td>Ms          </td><td>  2         </td><td>0.2%        </td></tr>\n",
       "\t<tr><td>Rev         </td><td>  8         </td><td>0.6%        </td></tr>\n",
       "\t<tr><td>Sir         </td><td>  1         </td><td>0.1%        </td></tr>\n",
       "\t<tr><td>the Countess</td><td>  1         </td><td>0.1%        </td></tr>\n",
       "</tbody>\n",
       "</table>\n"
      ],
      "text/latex": [
       "\\begin{tabular}{r|lll}\n",
       " Title & n & percent\\\\\n",
       "\\hline\n",
       "\t Capt         &   1          & 0.1\\%      \\\\\n",
       "\t Col          &   4          & 0.3\\%      \\\\\n",
       "\t Don          &   1          & 0.1\\%      \\\\\n",
       "\t Dona         &   1          & 0.1\\%      \\\\\n",
       "\t Dr           &   8          & 0.6\\%      \\\\\n",
       "\t Jonkheer     &   1          & 0.1\\%      \\\\\n",
       "\t Lady         &   1          & 0.1\\%      \\\\\n",
       "\t Major        &   2          & 0.2\\%      \\\\\n",
       "\t Master       &  61          & 4.7\\%      \\\\\n",
       "\t Miss         & 260          & 19.9\\%     \\\\\n",
       "\t Mlle         &   2          & 0.2\\%      \\\\\n",
       "\t Mme          &   1          & 0.1\\%      \\\\\n",
       "\t Mr           & 757          & 57.8\\%     \\\\\n",
       "\t Mrs          & 197          & 15.0\\%     \\\\\n",
       "\t Ms           &   2          & 0.2\\%      \\\\\n",
       "\t Rev          &   8          & 0.6\\%      \\\\\n",
       "\t Sir          &   1          & 0.1\\%      \\\\\n",
       "\t the Countess &   1          & 0.1\\%      \\\\\n",
       "\\end{tabular}\n"
      ],
      "text/markdown": [
       "\n",
       "Title | n | percent | \n",
       "|---|---|---|---|---|---|---|---|---|---|---|---|---|---|---|---|---|---|\n",
       "| Capt         |   1          | 0.1%         | \n",
       "| Col          |   4          | 0.3%         | \n",
       "| Don          |   1          | 0.1%         | \n",
       "| Dona         |   1          | 0.1%         | \n",
       "| Dr           |   8          | 0.6%         | \n",
       "| Jonkheer     |   1          | 0.1%         | \n",
       "| Lady         |   1          | 0.1%         | \n",
       "| Major        |   2          | 0.2%         | \n",
       "| Master       |  61          | 4.7%         | \n",
       "| Miss         | 260          | 19.9%        | \n",
       "| Mlle         |   2          | 0.2%         | \n",
       "| Mme          |   1          | 0.1%         | \n",
       "| Mr           | 757          | 57.8%        | \n",
       "| Mrs          | 197          | 15.0%        | \n",
       "| Ms           |   2          | 0.2%         | \n",
       "| Rev          |   8          | 0.6%         | \n",
       "| Sir          |   1          | 0.1%         | \n",
       "| the Countess |   1          | 0.1%         | \n",
       "\n",
       "\n"
      ],
      "text/plain": [
       "   Title        n   percent\n",
       "1  Capt           1 0.1%   \n",
       "2  Col            4 0.3%   \n",
       "3  Don            1 0.1%   \n",
       "4  Dona           1 0.1%   \n",
       "5  Dr             8 0.6%   \n",
       "6  Jonkheer       1 0.1%   \n",
       "7  Lady           1 0.1%   \n",
       "8  Major          2 0.2%   \n",
       "9  Master        61 4.7%   \n",
       "10 Miss         260 19.9%  \n",
       "11 Mlle           2 0.2%   \n",
       "12 Mme            1 0.1%   \n",
       "13 Mr           757 57.8%  \n",
       "14 Mrs          197 15.0%  \n",
       "15 Ms             2 0.2%   \n",
       "16 Rev            8 0.6%   \n",
       "17 Sir            1 0.1%   \n",
       "18 the Countess   1 0.1%   "
      ]
     },
     "metadata": {},
     "output_type": "display_data"
    }
   ],
   "source": [
    "# Extract title from passenger name and add it to Title feature\n",
    "titanic_data$Title <- gsub('(.*, )|(\\\\..*)', '', titanic_data$Name)\n",
    "# Create the secondary Tittle feature\n",
    "titanic_data$Title2 <- gsub('(.*, )|(\\\\..*)', '', titanic_data$Name)\n",
    "# Summarise the title type by its proportion\n",
    "title_prop <- titanic_data %>% \n",
    " tabyl(Title) %>%\n",
    " adorn_pct_formatting(digits = 1)\n",
    "title_prop"
   ]
  },
  {
   "cell_type": "code",
   "execution_count": 8,
   "metadata": {},
   "outputs": [
    {
     "data": {
      "text/html": [
       "<ol class=list-inline>\n",
       "\t<li>'Capt'</li>\n",
       "\t<li>'Col'</li>\n",
       "\t<li>'Don'</li>\n",
       "\t<li>'Dona'</li>\n",
       "\t<li>'Dr'</li>\n",
       "\t<li>'Jonkheer'</li>\n",
       "\t<li>'Lady'</li>\n",
       "\t<li>'Major'</li>\n",
       "\t<li>'Mlle'</li>\n",
       "\t<li>'Mme'</li>\n",
       "\t<li>'Ms'</li>\n",
       "\t<li>'Rev'</li>\n",
       "\t<li>'Sir'</li>\n",
       "\t<li>'the Countess'</li>\n",
       "</ol>\n"
      ],
      "text/latex": [
       "\\begin{enumerate*}\n",
       "\\item 'Capt'\n",
       "\\item 'Col'\n",
       "\\item 'Don'\n",
       "\\item 'Dona'\n",
       "\\item 'Dr'\n",
       "\\item 'Jonkheer'\n",
       "\\item 'Lady'\n",
       "\\item 'Major'\n",
       "\\item 'Mlle'\n",
       "\\item 'Mme'\n",
       "\\item 'Ms'\n",
       "\\item 'Rev'\n",
       "\\item 'Sir'\n",
       "\\item 'the Countess'\n",
       "\\end{enumerate*}\n"
      ],
      "text/markdown": [
       "1. 'Capt'\n",
       "2. 'Col'\n",
       "3. 'Don'\n",
       "4. 'Dona'\n",
       "5. 'Dr'\n",
       "6. 'Jonkheer'\n",
       "7. 'Lady'\n",
       "8. 'Major'\n",
       "9. 'Mlle'\n",
       "10. 'Mme'\n",
       "11. 'Ms'\n",
       "12. 'Rev'\n",
       "13. 'Sir'\n",
       "14. 'the Countess'\n",
       "\n",
       "\n"
      ],
      "text/plain": [
       " [1] \"Capt\"         \"Col\"          \"Don\"          \"Dona\"         \"Dr\"          \n",
       " [6] \"Jonkheer\"     \"Lady\"         \"Major\"        \"Mlle\"         \"Mme\"         \n",
       "[11] \"Ms\"           \"Rev\"          \"Sir\"          \"the Countess\"\n",
       "attr(,\"na.action\")\n",
       "[1]  9 10 13 14\n",
       "attr(,\"class\")\n",
       "[1] \"omit\""
      ]
     },
     "metadata": {},
     "output_type": "display_data"
    }
   ],
   "source": [
    "# Define a variable that will receive the rare titles as a vector\n",
    "rare <- c()\n",
    "# Loop to store occurrences less than 10\n",
    "for(i in 1:18){\n",
    "    if (title_prop[i,2] < 10){\n",
    "        rare[i] <- title_prop[i,1]\n",
    "    } \n",
    "}\n",
    "# Drop the NA ocurrences\n",
    "rare <- rare  %>% na.omit()\n",
    "rare"
   ]
  },
  {
   "cell_type": "code",
   "execution_count": 9,
   "metadata": {},
   "outputs": [],
   "source": [
    "# Treating the first Title feature. \n",
    "titanic_data$Title[titanic_data$Title %in% rare] <- 'Rare'\n",
    "titanic_data$Title[titanic_data$Title == 'Mlle'] <- 'Miss'\n",
    "titanic_data$Title[titanic_data$Title == 'Ms']   <- 'Miss'\n",
    "titanic_data$Title[titanic_data$Title == 'Mme']  <- 'Mrs'"
   ]
  },
  {
   "cell_type": "code",
   "execution_count": 10,
   "metadata": {},
   "outputs": [
    {
     "data": {
      "text/html": [
       "'Mrs'"
      ],
      "text/latex": [
       "'Mrs'"
      ],
      "text/markdown": [
       "'Mrs'"
      ],
      "text/plain": [
       "[1] \"Mrs\""
      ]
     },
     "metadata": {},
     "output_type": "display_data"
    },
    {
     "data": {
      "text/html": [
       "'Miss'"
      ],
      "text/latex": [
       "'Miss'"
      ],
      "text/markdown": [
       "'Miss'"
      ],
      "text/plain": [
       "[1] \"Miss\""
      ]
     },
     "metadata": {},
     "output_type": "display_data"
    }
   ],
   "source": [
    "# Treating the second Title feature\n",
    "titanic_data$Title2[titanic_data$Title2 == 'Capt']         <- 'Mr'\n",
    "titanic_data$Title2[titanic_data$Title2 == 'Col']          <- 'Mr'\n",
    "titanic_data$Title2[titanic_data$Title2 == 'Don']          <- 'Mr'\n",
    "titanic_data$Title2[titanic_data$Title2 == 'Dona']         <- 'Mrs'\n",
    "titanic_data$Title2[titanic_data$Title2 == 'Lady']         <- 'Mrs'\n",
    "titanic_data$Title2[titanic_data$Title2 == 'Major']        <- 'Mr'\n",
    "titanic_data$Title2[titanic_data$Title2 == 'Mlle']         <- 'Miss'\n",
    "titanic_data$Title2[titanic_data$Title2 == 'Mme']          <- 'Mrs'\n",
    "titanic_data$Title2[titanic_data$Title2 == 'Ms']           <- 'Miss'\n",
    "titanic_data$Title2[titanic_data$Title2 == 'Rev']          <- 'Mr'\n",
    "titanic_data$Title2[titanic_data$Title2 == 'Sir']          <- 'Mr'\n",
    "titanic_data$Title2[titanic_data$Title2 == 'the Countess'] <- 'Mrs'\n",
    "\n",
    "ifelse(titanic_data$Title2 == 'Dr' && titanic_data$Sex == 'male',\n",
    "       titanic_data$Title2[titanic_data$Title2 == 'Dr'] <- 'Mr',\n",
    "       titanic_data$Title2[titanic_data$Title2 == 'Dr'] <- 'Mrs')\n",
    "\n",
    "ifelse(titanic_data$Title2 == 'Jonkheer' && titanic_data$Sex == 'male',\n",
    "       titanic_data$Title2[titanic_data$Title2 == 'Jonkheer'] <- 'Mr',\n",
    "       titanic_data$Title2[titanic_data$Title2 == 'Jonkheer'] <- 'Miss')"
   ]
  },
  {
   "cell_type": "code",
   "execution_count": 11,
   "metadata": {
    "scrolled": true
   },
   "outputs": [
    {
     "data": {
      "text/html": [
       "<table>\n",
       "<thead><tr><th scope=col>Title</th><th scope=col>n</th><th scope=col>percent</th></tr></thead>\n",
       "<tbody>\n",
       "\t<tr><td>Master</td><td> 61   </td><td>4.7%  </td></tr>\n",
       "\t<tr><td>Miss  </td><td>260   </td><td>19.9% </td></tr>\n",
       "\t<tr><td>Mr    </td><td>757   </td><td>57.8% </td></tr>\n",
       "\t<tr><td>Mrs   </td><td>197   </td><td>15.0% </td></tr>\n",
       "\t<tr><td>Rare  </td><td> 34   </td><td>2.6%  </td></tr>\n",
       "</tbody>\n",
       "</table>\n"
      ],
      "text/latex": [
       "\\begin{tabular}{r|lll}\n",
       " Title & n & percent\\\\\n",
       "\\hline\n",
       "\t Master  &  61     & 4.7\\% \\\\\n",
       "\t Miss    & 260     & 19.9\\%\\\\\n",
       "\t Mr      & 757     & 57.8\\%\\\\\n",
       "\t Mrs     & 197     & 15.0\\%\\\\\n",
       "\t Rare    &  34     & 2.6\\% \\\\\n",
       "\\end{tabular}\n"
      ],
      "text/markdown": [
       "\n",
       "Title | n | percent | \n",
       "|---|---|---|---|---|\n",
       "| Master |  61    | 4.7%   | \n",
       "| Miss   | 260    | 19.9%  | \n",
       "| Mr     | 757    | 57.8%  | \n",
       "| Mrs    | 197    | 15.0%  | \n",
       "| Rare   |  34    | 2.6%   | \n",
       "\n",
       "\n"
      ],
      "text/plain": [
       "  Title  n   percent\n",
       "1 Master  61 4.7%   \n",
       "2 Miss   260 19.9%  \n",
       "3 Mr     757 57.8%  \n",
       "4 Mrs    197 15.0%  \n",
       "5 Rare    34 2.6%   "
      ]
     },
     "metadata": {},
     "output_type": "display_data"
    },
    {
     "data": {
      "text/html": [
       "<table>\n",
       "<thead><tr><th scope=col>Title2</th><th scope=col>n</th><th scope=col>percent</th></tr></thead>\n",
       "<tbody>\n",
       "\t<tr><td>Master</td><td> 61   </td><td>4.7%  </td></tr>\n",
       "\t<tr><td>Miss  </td><td>265   </td><td>20.2% </td></tr>\n",
       "\t<tr><td>Mr    </td><td>774   </td><td>59.1% </td></tr>\n",
       "\t<tr><td>Mrs   </td><td>209   </td><td>16.0% </td></tr>\n",
       "</tbody>\n",
       "</table>\n"
      ],
      "text/latex": [
       "\\begin{tabular}{r|lll}\n",
       " Title2 & n & percent\\\\\n",
       "\\hline\n",
       "\t Master  &  61     & 4.7\\% \\\\\n",
       "\t Miss    & 265     & 20.2\\%\\\\\n",
       "\t Mr      & 774     & 59.1\\%\\\\\n",
       "\t Mrs     & 209     & 16.0\\%\\\\\n",
       "\\end{tabular}\n"
      ],
      "text/markdown": [
       "\n",
       "Title2 | n | percent | \n",
       "|---|---|---|---|\n",
       "| Master |  61    | 4.7%   | \n",
       "| Miss   | 265    | 20.2%  | \n",
       "| Mr     | 774    | 59.1%  | \n",
       "| Mrs    | 209    | 16.0%  | \n",
       "\n",
       "\n"
      ],
      "text/plain": [
       "  Title2 n   percent\n",
       "1 Master  61 4.7%   \n",
       "2 Miss   265 20.2%  \n",
       "3 Mr     774 59.1%  \n",
       "4 Mrs    209 16.0%  "
      ]
     },
     "metadata": {},
     "output_type": "display_data"
    }
   ],
   "source": [
    "# Title proportion for the first Title feature after feature engineering \n",
    "title_prop <- titanic_data %>% \n",
    " tabyl(Title) %>%\n",
    " adorn_pct_formatting(digits = 1)\n",
    "title_prop\n",
    "# Title proportion for the second Title feature after feature engineering \n",
    "title_prop2 <- titanic_data %>% \n",
    " tabyl(Title2) %>%\n",
    " adorn_pct_formatting(digits = 1)\n",
    "title_prop2"
   ]
  },
  {
   "cell_type": "markdown",
   "metadata": {},
   "source": [
    "### Deck"
   ]
  },
  {
   "cell_type": "code",
   "execution_count": 12,
   "metadata": {},
   "outputs": [
    {
     "data": {
      "text/html": [
       "<table>\n",
       "<thead><tr><th scope=col>Deck</th><th scope=col>n</th><th scope=col>percent</th><th scope=col>valid_percent</th></tr></thead>\n",
       "<tbody>\n",
       "\t<tr><td>A    </td><td>  22 </td><td>1.7% </td><td>7.5% </td></tr>\n",
       "\t<tr><td>B    </td><td>  65 </td><td>5.0% </td><td>22.0%</td></tr>\n",
       "\t<tr><td>C    </td><td>  94 </td><td>7.2% </td><td>31.9%</td></tr>\n",
       "\t<tr><td>D    </td><td>  46 </td><td>3.5% </td><td>15.6%</td></tr>\n",
       "\t<tr><td>E    </td><td>  41 </td><td>3.1% </td><td>13.9%</td></tr>\n",
       "\t<tr><td>F    </td><td>  21 </td><td>1.6% </td><td>7.1% </td></tr>\n",
       "\t<tr><td>G    </td><td>   5 </td><td>0.4% </td><td>1.7% </td></tr>\n",
       "\t<tr><td>T    </td><td>   1 </td><td>0.1% </td><td>0.3% </td></tr>\n",
       "\t<tr><td>NA   </td><td>1014 </td><td>77.5%</td><td>-    </td></tr>\n",
       "</tbody>\n",
       "</table>\n"
      ],
      "text/latex": [
       "\\begin{tabular}{r|llll}\n",
       " Deck & n & percent & valid\\_percent\\\\\n",
       "\\hline\n",
       "\t A       &   22    & 1.7\\%  & 7.5\\% \\\\\n",
       "\t B       &   65    & 5.0\\%  & 22.0\\%\\\\\n",
       "\t C       &   94    & 7.2\\%  & 31.9\\%\\\\\n",
       "\t D       &   46    & 3.5\\%  & 15.6\\%\\\\\n",
       "\t E       &   41    & 3.1\\%  & 13.9\\%\\\\\n",
       "\t F       &   21    & 1.6\\%  & 7.1\\% \\\\\n",
       "\t G       &    5    & 0.4\\%  & 1.7\\% \\\\\n",
       "\t T       &    1    & 0.1\\%  & 0.3\\% \\\\\n",
       "\t NA      & 1014    & 77.5\\% & -      \\\\\n",
       "\\end{tabular}\n"
      ],
      "text/markdown": [
       "\n",
       "Deck | n | percent | valid_percent | \n",
       "|---|---|---|---|---|---|---|---|---|\n",
       "| A     |   22  | 1.7%  | 7.5%  | \n",
       "| B     |   65  | 5.0%  | 22.0% | \n",
       "| C     |   94  | 7.2%  | 31.9% | \n",
       "| D     |   46  | 3.5%  | 15.6% | \n",
       "| E     |   41  | 3.1%  | 13.9% | \n",
       "| F     |   21  | 1.6%  | 7.1%  | \n",
       "| G     |    5  | 0.4%  | 1.7%  | \n",
       "| T     |    1  | 0.1%  | 0.3%  | \n",
       "| NA    | 1014  | 77.5% | -     | \n",
       "\n",
       "\n"
      ],
      "text/plain": [
       "  Deck n    percent valid_percent\n",
       "1 A      22 1.7%    7.5%         \n",
       "2 B      65 5.0%    22.0%        \n",
       "3 C      94 7.2%    31.9%        \n",
       "4 D      46 3.5%    15.6%        \n",
       "5 E      41 3.1%    13.9%        \n",
       "6 F      21 1.6%    7.1%         \n",
       "7 G       5 0.4%    1.7%         \n",
       "8 T       1 0.1%    0.3%         \n",
       "9 NA   1014 77.5%   -            "
      ]
     },
     "metadata": {},
     "output_type": "display_data"
    }
   ],
   "source": [
    "# Extract the first character that represents the deck and store it in Deck column\n",
    "titanic_data$Deck <- substr(titanic_data$Cabin, 1, 1)\n",
    "\n",
    "#Deck proportion by type\n",
    "deck_prop <- titanic_data %>% \n",
    " tabyl(Deck) %>%\n",
    " adorn_pct_formatting(digits = 1)\n",
    "deck_prop"
   ]
  },
  {
   "cell_type": "markdown",
   "metadata": {},
   "source": [
    "## Missing values"
   ]
  },
  {
   "cell_type": "code",
   "execution_count": 13,
   "metadata": {},
   "outputs": [
    {
     "data": {
      "text/html": [
       "<dl class=dl-horizontal>\n",
       "\t<dt>PassengerId</dt>\n",
       "\t\t<dd>0</dd>\n",
       "\t<dt>Survived</dt>\n",
       "\t\t<dd>418</dd>\n",
       "\t<dt>Pclass</dt>\n",
       "\t\t<dd>0</dd>\n",
       "\t<dt>Name</dt>\n",
       "\t\t<dd>0</dd>\n",
       "\t<dt>Sex</dt>\n",
       "\t\t<dd>0</dd>\n",
       "\t<dt>Age</dt>\n",
       "\t\t<dd>263</dd>\n",
       "\t<dt>SibSp</dt>\n",
       "\t\t<dd>0</dd>\n",
       "\t<dt>Parch</dt>\n",
       "\t\t<dd>0</dd>\n",
       "\t<dt>Ticket</dt>\n",
       "\t\t<dd>0</dd>\n",
       "\t<dt>Fare</dt>\n",
       "\t\t<dd>1</dd>\n",
       "\t<dt>Cabin</dt>\n",
       "\t\t<dd>1014</dd>\n",
       "\t<dt>Embarked</dt>\n",
       "\t\t<dd>2</dd>\n",
       "\t<dt>FamilySize</dt>\n",
       "\t\t<dd>0</dd>\n",
       "\t<dt>Title</dt>\n",
       "\t\t<dd>0</dd>\n",
       "\t<dt>Title2</dt>\n",
       "\t\t<dd>0</dd>\n",
       "\t<dt>Deck</dt>\n",
       "\t\t<dd>1014</dd>\n",
       "</dl>\n"
      ],
      "text/latex": [
       "\\begin{description*}\n",
       "\\item[PassengerId] 0\n",
       "\\item[Survived] 418\n",
       "\\item[Pclass] 0\n",
       "\\item[Name] 0\n",
       "\\item[Sex] 0\n",
       "\\item[Age] 263\n",
       "\\item[SibSp] 0\n",
       "\\item[Parch] 0\n",
       "\\item[Ticket] 0\n",
       "\\item[Fare] 1\n",
       "\\item[Cabin] 1014\n",
       "\\item[Embarked] 2\n",
       "\\item[FamilySize] 0\n",
       "\\item[Title] 0\n",
       "\\item[Title2] 0\n",
       "\\item[Deck] 1014\n",
       "\\end{description*}\n"
      ],
      "text/markdown": [
       "PassengerId\n",
       ":   0Survived\n",
       ":   418Pclass\n",
       ":   0Name\n",
       ":   0Sex\n",
       ":   0Age\n",
       ":   263SibSp\n",
       ":   0Parch\n",
       ":   0Ticket\n",
       ":   0Fare\n",
       ":   1Cabin\n",
       ":   1014Embarked\n",
       ":   2FamilySize\n",
       ":   0Title\n",
       ":   0Title2\n",
       ":   0Deck\n",
       ":   1014\n",
       "\n"
      ],
      "text/plain": [
       "PassengerId    Survived      Pclass        Name         Sex         Age \n",
       "          0         418           0           0           0         263 \n",
       "      SibSp       Parch      Ticket        Fare       Cabin    Embarked \n",
       "          0           0           0           1        1014           2 \n",
       " FamilySize       Title      Title2        Deck \n",
       "          0           0           0        1014 "
      ]
     },
     "metadata": {},
     "output_type": "display_data"
    }
   ],
   "source": [
    "#Check for missing values by feature\n",
    "sapply(titanic_data, function(x) sum(is.na(x)))"
   ]
  },
  {
   "cell_type": "markdown",
   "metadata": {},
   "source": [
    "### Missing values of Age"
   ]
  },
  {
   "cell_type": "code",
   "execution_count": 14,
   "metadata": {},
   "outputs": [
    {
     "data": {
      "text/plain": [
       "   Min. 1st Qu.  Median    Mean 3rd Qu.    Max.    NA's \n",
       "   0.17   21.00   28.00   29.88   39.00   80.00     263 "
      ]
     },
     "metadata": {},
     "output_type": "display_data"
    }
   ],
   "source": [
    "summary(titanic_data$Age)"
   ]
  },
  {
   "cell_type": "code",
   "execution_count": 15,
   "metadata": {},
   "outputs": [
    {
     "name": "stderr",
     "output_type": "stream",
     "text": [
      "Warning message:\n",
      "“Removed 263 rows containing non-finite values (stat_bin).”Warning message:\n",
      "“Removed 263 rows containing non-finite values (stat_boxplot).”"
     ]
    },
    {
     "data": {},
     "metadata": {},
     "output_type": "display_data"
    },
    {
     "data": {
      "image/png": "[encoded data removed]",
      "text/plain": [
       "plot without title"
      ]
     },
     "metadata": {},
     "output_type": "display_data"
    }
   ],
   "source": [
    "g1 <- titanic_data %>%\n",
    "    ggplot() + \n",
    "    geom_histogram(aes(Age),alpha= 0.8, bins = 30) +\n",
    "    geom_vline(aes(xintercept = mean(Age, na.rm = T)),\n",
    "               color = \"red\", linetype = \"dashed\", size =.5) +\n",
    "    geom_vline(aes(xintercept = median(Age, na.rm = T)),\n",
    "               color = \"blue\", linetype = \"dashed\", size =.5) +\n",
    "    labs(x = \"Age\", y = \"Number of Passengers\") +  theme_bw() +  \n",
    "    ggtitle('Graph 1 - Age distribution') +\n",
    "    theme(plot.title = element_text(hjust = 0.5))   \n",
    "\n",
    "g2 <- titanic_data %>%\n",
    "    ggplot() +\n",
    "    geom_boxplot(aes(x = Sex, y = Age, fill = as.factor(Pclass))) +\n",
    "    labs(x = 'Sex', y = 'Age') + \n",
    "    scale_fill_discrete(name = \"Pclass\") + theme_bw() +     \n",
    "    ggtitle('Graph 2 - Boxplot Age vs Sex grouped by Pclass') + \n",
    "    theme(plot.title = element_text(hjust = 0.5)) \n",
    "\n",
    "\n",
    "ggarrange(g1, g2, nrow = 2)\n"
   ]
  },
  {
   "cell_type": "code",
   "execution_count": 16,
   "metadata": {},
   "outputs": [],
   "source": [
    "#Calculate the median grouped by the Pclass and Sex = male\n",
    "Mgroup1 <- titanic_data %>% filter(Pclass == 1, Sex == 'male')\n",
    "Mmedian1 <- median(Mgroup1$Age,na.rm = T)\n",
    "\n",
    "Mgroup2 <- titanic_data %>% filter(Pclass == 2, Sex == 'male') \n",
    "Mmedian2 <- median(Mgroup2$Age,na.rm = T)\n",
    "\n",
    "Mgroup3 <- titanic_data %>% filter(Pclass == 3, Sex == 'male') \n",
    "Mmedian3 <- median(Mgroup3$Age,na.rm = T)\n",
    "\n"
   ]
  },
  {
   "cell_type": "code",
   "execution_count": 17,
   "metadata": {},
   "outputs": [],
   "source": [
    "#Calculate the median grouped by the Pclass and Sex = female\n",
    "Fgroup1 <- titanic_data %>% na.omit() %>% filter(Pclass == 1, Sex == 'female')\n",
    "Fmedian1 <- median(Fgroup1$Age,na.rm = T)\n",
    "\n",
    "Fgroup2 <- titanic_data %>% na.omit() %>% filter(Pclass == 2, Sex == 'female') \n",
    "Fmedian2 <-median(Fgroup2$Age,na.rm = T)\n",
    "\n",
    "Fgroup3 <- titanic_data %>% na.omit() %>% filter(Pclass == 3, Sex == 'female') \n",
    "Fmedian3 <-median(Fgroup3$Age,na.rm = T)\n"
   ]
  },
  {
   "cell_type": "code",
   "execution_count": 18,
   "metadata": {},
   "outputs": [],
   "source": [
    "# Fill the Age's NULL values with median of respective group \n",
    "for(i in 1:dim(titanic_data)[1]){\n",
    "    if(titanic_data$Sex[i] == 'male' && is.na(titanic_data$Age[i])){\n",
    "        if(titanic_data$Pclass[i] == 1)\n",
    "            titanic_data$Age[i] <-  Mmedian1\n",
    "        if(titanic_data$Pclass[i] == 2)\n",
    "             titanic_data$Age[i] <- Mmedian2\n",
    "        if(titanic_data$Pclass[i] == 3)\n",
    "             titanic_data$Age[i] <- Mmedian3\n",
    "    }\n",
    "     if(titanic_data$Sex[i] == 'female' && is.na(titanic_data$Age[i])){\n",
    "        if(titanic_data$Pclass[i] == 1)\n",
    "            titanic_data$Age[i] <-  Fmedian1\n",
    "        if(titanic_data$Pclass[i] == 2)\n",
    "             titanic_data$Age[i] <- Fmedian2\n",
    "        if(titanic_data$Pclass[i] == 3)\n",
    "             titanic_data$Age[i] <- Fmedian3\n",
    "    }\n",
    "}\n"
   ]
  },
  {
   "cell_type": "code",
   "execution_count": 19,
   "metadata": {},
   "outputs": [
    {
     "data": {},
     "metadata": {},
     "output_type": "display_data"
    },
    {
     "data": {
      "text/plain": [
       "   Min. 1st Qu.  Median    Mean 3rd Qu.    Max. \n",
       "   0.17   22.00   26.00   29.34   36.00   80.00 "
      ]
     },
     "metadata": {},
     "output_type": "display_data"
    },
    {
     "data": {
      "image/png": "[encoded data removed]",
      "text/plain": [
       "plot without title"
      ]
     },
     "metadata": {},
     "output_type": "display_data"
    }
   ],
   "source": [
    "g3 <- titanic_data %>%\n",
    "    ggplot() + \n",
    "    geom_histogram(aes(Age),alpha= 0.8, bins = 30) +\n",
    "    geom_vline(aes(xintercept = mean(Age, na.rm = T)),\n",
    "               color = \"red\", linetype = \"dashed\", size =.5) +\n",
    "    geom_vline(aes(xintercept = median(Age, na.rm = T)),\n",
    "               color = \"blue\", linetype = \"dashed\", size =.5) +\n",
    "    labs(x = \"Age\", y = \"Number of Passengers after redistribution\") +  theme_bw() +  \n",
    "    ggtitle('Graph 3 - Age distribution') +\n",
    "    theme(plot.title = element_text(hjust = 0.5))   \n",
    "\n",
    "ggarrange(g3, nrow = 1)\n",
    "summary(titanic_data$Age)"
   ]
  },
  {
   "cell_type": "markdown",
   "metadata": {},
   "source": [
    "### Missing values of Deck"
   ]
  },
  {
   "cell_type": "code",
   "execution_count": 20,
   "metadata": {},
   "outputs": [],
   "source": [
    "# If Cabin value is NULL, store Deck value as 'Unknown'\n",
    "titanic_data$Deck[is.na(titanic_data$Cabin)] <- 'Unknown'"
   ]
  },
  {
   "cell_type": "markdown",
   "metadata": {},
   "source": [
    "# Exploratory data analysis"
   ]
  },
  {
   "cell_type": "markdown",
   "metadata": {},
   "source": [
    "## Data summary"
   ]
  },
  {
   "cell_type": "code",
   "execution_count": 21,
   "metadata": {},
   "outputs": [
    {
     "data": {
      "text/html": [
       "<table>\n",
       "<thead><tr><th scope=col>Sex</th><th scope=col>n</th><th scope=col>percent</th></tr></thead>\n",
       "<tbody>\n",
       "\t<tr><td>female</td><td>466   </td><td>35.6% </td></tr>\n",
       "\t<tr><td>male  </td><td>843   </td><td>64.4% </td></tr>\n",
       "</tbody>\n",
       "</table>\n"
      ],
      "text/latex": [
       "\\begin{tabular}{r|lll}\n",
       " Sex & n & percent\\\\\n",
       "\\hline\n",
       "\t female  & 466     & 35.6\\%\\\\\n",
       "\t male    & 843     & 64.4\\%\\\\\n",
       "\\end{tabular}\n"
      ],
      "text/markdown": [
       "\n",
       "Sex | n | percent | \n",
       "|---|---|\n",
       "| female | 466    | 35.6%  | \n",
       "| male   | 843    | 64.4%  | \n",
       "\n",
       "\n"
      ],
      "text/plain": [
       "  Sex    n   percent\n",
       "1 female 466 35.6%  \n",
       "2 male   843 64.4%  "
      ]
     },
     "metadata": {},
     "output_type": "display_data"
    }
   ],
   "source": [
    "titanic_data %>% \n",
    " tabyl(Sex) %>%\n",
    " adorn_pct_formatting(digits = 1)"
   ]
  },
  {
   "cell_type": "code",
   "execution_count": null,
   "metadata": {},
   "outputs": [],
   "source": []
  }
 ],
 "metadata": {
  "kernelspec": {
   "display_name": "R",
   "language": "R",
   "name": "ir"
  },
  "language_info": {
   "codemirror_mode": "r",
   "file_extension": ".r",
   "mimetype": "text/x-r-source",
   "name": "R",
   "pygments_lexer": "r",
   "version": "3.5.1"
  },
  "latex_envs": {
   "LaTeX_envs_menu_present": true,
   "autoclose": false,
   "autocomplete": true,
   "bibliofile": "biblio.bib",
   "cite_by": "apalike",
   "current_citInitial": 1,
   "eqLabelWithNumbers": true,
   "eqNumInitial": 1,
   "hotkeys": {
    "equation": "Ctrl-E",
    "itemize": "Ctrl-I"
   },
   "labels_anchors": false,
   "latex_user_defs": false,
   "report_style_numbering": false,
   "user_envs_cfg": false
  },
  "toc": {
   "base_numbering": 1,
   "nav_menu": {},
   "number_sections": false,
   "sideBar": true,
   "skip_h1_title": false,
   "title_cell": "Table of Contents",
   "title_sidebar": "Contents",
   "toc_cell": false,
   "toc_position": {
    "height": "calc(100% - 180px)",
    "left": "10px",
    "top": "150px",
    "width": "273.2px"
   },
   "toc_section_display": true,
   "toc_window_display": true
  }
 },
 "nbformat": 4,
 "nbformat_minor": 2
}
